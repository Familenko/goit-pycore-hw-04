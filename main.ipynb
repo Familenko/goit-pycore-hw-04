{
 "cells": [
  {
   "cell_type": "markdown",
   "metadata": {},
   "source": [
    "# Task 1"
   ]
  },
  {
   "cell_type": "code",
   "execution_count": 1,
   "metadata": {},
   "outputs": [],
   "source": [
    "from code_store.task_1 import total_salary"
   ]
  },
  {
   "cell_type": "code",
   "execution_count": 2,
   "metadata": {},
   "outputs": [
    {
     "name": "stdout",
     "output_type": "stream",
     "text": [
      "Загальна сума заробітної плати: 6000, Середня заробітна плата: 2000\n"
     ]
    }
   ],
   "source": [
    "path_1 = 'data/task_1/task_1.txt'\n",
    "\n",
    "total, average = total_salary(path_1)\n",
    "print(f\"Загальна сума заробітної плати: {total}, Середня заробітна плата: {average}\")"
   ]
  },
  {
   "cell_type": "markdown",
   "metadata": {},
   "source": [
    "# Task 2"
   ]
  },
  {
   "cell_type": "code",
   "execution_count": 3,
   "metadata": {},
   "outputs": [],
   "source": [
    "from code_store.task_2 import get_cats_info"
   ]
  },
  {
   "cell_type": "code",
   "execution_count": 4,
   "metadata": {},
   "outputs": [
    {
     "data": {
      "text/plain": [
       "[{'id': '60b90c1c13067a15887e1ae1', 'name': 'Tayson', 'age': '3'},\n",
       " {'id': '60b90c2413067a15887e1ae2', 'name': 'Vika', 'age': '1'},\n",
       " {'id': '60b90c2e13067a15887e1ae3', 'name': 'Barsik', 'age': '2'},\n",
       " {'id': '60b90c3b13067a15887e1ae4', 'name': 'Simon', 'age': '12'},\n",
       " {'id': '60b90c4613067a15887e1ae5', 'name': 'Tessi', 'age': '5'}]"
      ]
     },
     "execution_count": 4,
     "metadata": {},
     "output_type": "execute_result"
    }
   ],
   "source": [
    "path_2 = 'data/task_2/task_2.txt'\n",
    "\n",
    "cats_info = get_cats_info(path_2)\n",
    "cats_info"
   ]
  },
  {
   "cell_type": "markdown",
   "metadata": {},
   "source": [
    "# Task 3"
   ]
  },
  {
   "cell_type": "code",
   "execution_count": 5,
   "metadata": {},
   "outputs": [],
   "source": [
    "import pathlib\n",
    "from code_store.task_3 import get_files_and_folders"
   ]
  },
  {
   "cell_type": "code",
   "execution_count": 6,
   "metadata": {},
   "outputs": [
    {
     "data": {
      "text/plain": [
       "PosixPath('/Users/aleksejkitajskij/Library/Mobile Documents/com~apple~CloudDocs/Programing/GoIT_projects/goit-pycore-hw-04')"
      ]
     },
     "execution_count": 6,
     "metadata": {},
     "output_type": "execute_result"
    }
   ],
   "source": [
    "cwd = pathlib.Path.cwd()\n",
    "cwd"
   ]
  },
  {
   "cell_type": "code",
   "execution_count": 7,
   "metadata": {},
   "outputs": [
    {
     "name": "stdout",
     "output_type": "stream",
     "text": [
      "\u001b[32mmain.ipynb\n",
      "\u001b[34mcode_store\n",
      "  \u001b[32mtask_1.py\n",
      "  \u001b[32mtask_4.py\n",
      "  \u001b[32m__init__.py\n",
      "  \u001b[32mtask_3.py\n",
      "  \u001b[32mtask_2.py\n",
      "\u001b[32m.gitignore\n",
      "\u001b[34mdata\n",
      "  \u001b[34mtask_1\n",
      "    \u001b[32mtask_1.txt\n",
      "  \u001b[34mtask_4\n",
      "    \u001b[32mcontacts.json\n",
      "  \u001b[34mtask_2\n",
      "    \u001b[32mtask_2.txt\n"
     ]
    }
   ],
   "source": [
    "get_files_and_folders(cwd)"
   ]
  },
  {
   "cell_type": "markdown",
   "metadata": {},
   "source": [
    "# Task 4"
   ]
  },
  {
   "cell_type": "code",
   "execution_count": 8,
   "metadata": {},
   "outputs": [],
   "source": [
    "from code_store.task_4 import (\n",
    "    add_contact,\n",
    "    change_contact,\n",
    "    show_phone,\n",
    "    show_all_contacts,\n",
    "    parse_input,\n",
    "    hello,\n",
    "    )"
   ]
  },
  {
   "cell_type": "code",
   "execution_count": 10,
   "metadata": {},
   "outputs": [],
   "source": [
    "def main(filename: str = 'contacts.json'):\n",
    "    \"\"\"\n",
    "    Main function to run the assistant bot.\n",
    "    :param filename: str, path to the file with contacts\n",
    "    \"\"\"\n",
    "    print(\"Welcome to the assistant bot!\")\n",
    "\n",
    "    command_dict = {\n",
    "        'hello': hello,\n",
    "        'add': lambda args: add_contact(args, filename),\n",
    "        'change': lambda args: change_contact(args, filename),\n",
    "        'phone': lambda args: show_phone(args, filename),\n",
    "        'all': lambda args: show_all_contacts(filename),\n",
    "    }\n",
    "\n",
    "    while True:\n",
    "        user_input = input(\"Enter a command: \")\n",
    "        command, args = parse_input(user_input)\n",
    "\n",
    "        if command in [\"close\", \"exit\"]:\n",
    "            print(\"Good bye!\")\n",
    "            break\n",
    "        else:\n",
    "            if command in command_dict:\n",
    "                command_dict[command](args)\n",
    "            else:\n",
    "                print(\"Unknown command\")"
   ]
  },
  {
   "cell_type": "code",
   "execution_count": 11,
   "metadata": {},
   "outputs": [
    {
     "name": "stdout",
     "output_type": "stream",
     "text": [
      "Welcome to the assistant bot!\n",
      "How can I help you?\n",
      "Lesha: 4321\n",
      "Nastya: 1111\n",
      "Contact added.\n",
      "TOR's phone number is 333\n",
      "Contact updated.\n",
      "Lesha: 4321\n",
      "Nastya: 1111\n",
      "TOR: 222\n",
      "Good bye!\n"
     ]
    }
   ],
   "source": [
    "main('data/task_4/contacts.json')"
   ]
  }
 ],
 "metadata": {
  "kernelspec": {
   "display_name": "Python 3",
   "language": "python",
   "name": "python3"
  },
  "language_info": {
   "codemirror_mode": {
    "name": "ipython",
    "version": 3
   },
   "file_extension": ".py",
   "mimetype": "text/x-python",
   "name": "python",
   "nbconvert_exporter": "python",
   "pygments_lexer": "ipython3",
   "version": "3.11.3"
  },
  "orig_nbformat": 4
 },
 "nbformat": 4,
 "nbformat_minor": 2
}
