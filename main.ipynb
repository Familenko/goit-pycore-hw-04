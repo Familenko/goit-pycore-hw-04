{
 "cells": [
  {
   "cell_type": "markdown",
   "metadata": {},
   "source": [
    "# Task 1"
   ]
  },
  {
   "cell_type": "code",
   "execution_count": 1,
   "metadata": {},
   "outputs": [],
   "source": [
    "import re\n",
    "from typing import Tuple\n",
    "\n",
    "\n",
    "def total_salary(path: str) -> Tuple[int]:\n",
    "    \"\"\"\n",
    "    Function to calculate total salary and mean salary from a file\n",
    "\n",
    "    Args:\n",
    "    path (str): The path to the file\n",
    "\n",
    "    Returns:\n",
    "    Tuple[int]: A tuple of total salary and mean salary\n",
    "    \"\"\"\n",
    "    try:\n",
    "        with open(path, 'r', encoding='utf-8') as f:\n",
    "            data = f.read()\n",
    "    except (FileNotFoundError, IOError) as e:\n",
    "        return print('File not found or have error')\n",
    "\n",
    "    pattern = re.compile(r'\\w+ \\w+\\,(\\d+)')\n",
    "    matches = pattern.findall(data)\n",
    "\n",
    "    try:\n",
    "        matches = [int(match) for match in matches]\n",
    "    except ValueError as e:\n",
    "        return print('Error in data')\n",
    "    \n",
    "    total = sum(matches)\n",
    "    mean = total / len(matches) if total > 0 else 0\n",
    "\n",
    "    return total, int(mean)"
   ]
  },
  {
   "cell_type": "code",
   "execution_count": 2,
   "metadata": {},
   "outputs": [
    {
     "name": "stdout",
     "output_type": "stream",
     "text": [
      "Загальна сума заробітної плати: 6000, Середня заробітна плата: 2000\n"
     ]
    }
   ],
   "source": [
    "path_1 = 'data/task_1.txt'\n",
    "\n",
    "total, average = total_salary(path_1)\n",
    "print(f\"Загальна сума заробітної плати: {total}, Середня заробітна плата: {average}\")"
   ]
  },
  {
   "cell_type": "markdown",
   "metadata": {},
   "source": [
    "# Task 2"
   ]
  },
  {
   "cell_type": "code",
   "execution_count": 3,
   "metadata": {},
   "outputs": [],
   "source": [
    "from typing import Dict\n",
    "\n",
    "\n",
    "def get_cats_info(path: str) -> list[Dict]:\n",
    "    \"\"\"\n",
    "    Function to get cats info from a file\n",
    "\n",
    "    Args:\n",
    "    path (str): The path to the file\n",
    "\n",
    "    Returns:\n",
    "    list[Dict]: A list of dictionaries with cats info\n",
    "    \"\"\"\n",
    "    try:\n",
    "        with open(path, 'r', encoding='utf-8') as f:\n",
    "            data = f.readlines()\n",
    "    except (FileNotFoundError, IOError) as e:\n",
    "        return print('File not found or have error')\n",
    "\n",
    "    data = [line.strip() for line in data]\n",
    "\n",
    "    cats = []\n",
    "\n",
    "    for line in data:\n",
    "        if not line:\n",
    "            continue\n",
    "\n",
    "        cat = {}\n",
    "        if len(line.split(',')) != 3:\n",
    "            return print('Error in data')\n",
    "        cat['id'], cat['name'], cat['age'] = line.split(',')\n",
    "        cats.append(cat)\n",
    "\n",
    "    return cats\n"
   ]
  },
  {
   "cell_type": "code",
   "execution_count": 4,
   "metadata": {},
   "outputs": [
    {
     "data": {
      "text/plain": [
       "[{'id': '60b90c1c13067a15887e1ae1', 'name': 'Tayson', 'age': '3'},\n",
       " {'id': '60b90c2413067a15887e1ae2', 'name': 'Vika', 'age': '1'},\n",
       " {'id': '60b90c2e13067a15887e1ae3', 'name': 'Barsik', 'age': '2'},\n",
       " {'id': '60b90c3b13067a15887e1ae4', 'name': 'Simon', 'age': '12'},\n",
       " {'id': '60b90c4613067a15887e1ae5', 'name': 'Tessi', 'age': '5'}]"
      ]
     },
     "execution_count": 4,
     "metadata": {},
     "output_type": "execute_result"
    }
   ],
   "source": [
    "path_2 = 'data/task_2.txt'\n",
    "\n",
    "cats_info = get_cats_info(path_2)\n",
    "cats_info"
   ]
  },
  {
   "cell_type": "code",
   "execution_count": null,
   "metadata": {},
   "outputs": [],
   "source": []
  }
 ],
 "metadata": {
  "kernelspec": {
   "display_name": "Python 3",
   "language": "python",
   "name": "python3"
  },
  "language_info": {
   "codemirror_mode": {
    "name": "ipython",
    "version": 3
   },
   "file_extension": ".py",
   "mimetype": "text/x-python",
   "name": "python",
   "nbconvert_exporter": "python",
   "pygments_lexer": "ipython3",
   "version": "3.11.3"
  },
  "orig_nbformat": 4
 },
 "nbformat": 4,
 "nbformat_minor": 2
}
